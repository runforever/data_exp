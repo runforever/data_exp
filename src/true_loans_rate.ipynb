{
 "nbformat": 4,
 "nbformat_minor": 2,
 "metadata": {
  "language_info": {
   "name": "python",
   "codemirror_mode": {
    "name": "ipython",
    "version": 3
   },
   "version": "3.7.5-final"
  },
  "orig_nbformat": 2,
  "file_extension": ".py",
  "mimetype": "text/x-python",
  "name": "python",
  "npconvert_exporter": "python",
  "pygments_lexer": "ipython3",
  "version": 3,
  "kernelspec": {
   "name": "python37564bitmoonpipenv2959f348a3ad4d11ac1f8d90e494e5e9",
   "display_name": "Python 3.7.5 64-bit ('moon': pipenv)"
  }
 },
 "cells": [
  {
   "cell_type": "markdown",
   "metadata": {},
   "source": [
    "## 招商银行掌上取现一年成本"
   ]
  },
  {
   "cell_type": "code",
   "execution_count": 8,
   "metadata": {},
   "outputs": [
    {
     "output_type": "stream",
     "name": "stdout",
     "text": "| 2020-01-12 | 10000.0 | 60.0 | 12 | 10060.0 |\n| 2020-02-12 | 10060.0 | 155.93 | 31 | 10215.93 |\n| 2020-03-12 | 10215.93 | 148.13 | 29 | 10364.06 |\n| 2020-04-12 | 10364.06 | 160.64 | 31 | 10524.7 |\n| 2020-05-12 | 10524.7 | 157.87 | 30 | 10682.57 |\n| 2020-06-12 | 10682.57 | 165.58 | 31 | 10848.15 |\n| 2020-07-12 | 10848.15 | 162.72 | 30 | 11010.87 |\n| 2020-08-12 | 11010.87 | 170.67 | 31 | 11181.54 |\n| 2020-09-12 | 11181.54 | 173.31 | 31 | 11354.85 |\n| 2020-10-12 | 11354.85 | 170.32 | 30 | 11525.17 |\n| 2020-11-12 | 11525.17 | 178.64 | 31 | 11703.81 |\n| 2020-12-12 | 11703.81 | 175.56 | 30 | 11879.37 |\n| 2021-01-01 | 11879.37 | 118.79 | 20 | 11998.16 |\n"
    }
   ],
   "source": [
    "import datetime\n",
    "\n",
    "loan = 10000.0\n",
    "rate = 0.0005\n",
    "\n",
    "start_time = datetime.datetime(2020, 1, 1)\n",
    "end_time = datetime.datetime(2021, 1, 1)\n",
    "\n",
    "for i in range(1, 14):\n",
    "    if i == 13:\n",
    "        bill_time = end_time\n",
    "    else:\n",
    "        bill_time = datetime.datetime(2020, i, 12)\n",
    "\n",
    "    days = (bill_time - start_time).days + 1\n",
    "    interest = round((loan * rate) * days, 2)\n",
    "    bill = round(loan + interest, 2)\n",
    "    print('| %s | %s | %s | %s | %s |' % (bill_time.strftime('%Y-%m-%d'), loan, interest, days, bill))\n",
    "\n",
    "    start_time = bill_time + datetime.timedelta(days=1)\n",
    "    loan = bill\n",
    ""
   ]
  },
  {
   "cell_type": "code",
   "execution_count": null,
   "metadata": {},
   "outputs": [],
   "source": []
  }
 ]
}