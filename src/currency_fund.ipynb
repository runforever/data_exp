{
 "cells": [
  {
   "cell_type": "code",
   "execution_count": 3,
   "metadata": {},
   "outputs": [
    {
     "output_type": "stream",
     "name": "stdout",
     "text": "auth success \n"
    }
   ],
   "source": [
    "import datetime\n",
    "\n",
    "import pandas as pd\n",
    "from jqdatasdk import *\n",
    "\n",
    "auth('your account', 'your password')"
   ]
  },
  {
   "cell_type": "code",
   "execution_count": 6,
   "metadata": {},
   "outputs": [],
   "source": [
    "q=query(finance.FUND_MAIN_INFO).filter(finance.FUND_MAIN_INFO.main_code=='000198')\n",
    "df=finance.run_query(q)"
   ]
  },
  {
   "cell_type": "code",
   "execution_count": 7,
   "metadata": {},
   "outputs": [
    {
     "output_type": "execute_result",
     "data": {
      "text/plain": "    id main_code   name     advisor     trustee  operate_mode_id operate_mode  \\\n0  114    000198  天弘余额宝  天弘基金管理有限公司  中信银行股份有限公司           401001        开放式基金   \n\n   underlying_asset_type_id underlying_asset_type  start_date end_date  \n0                    402002                   货币型  2013-05-29     None  ",
      "text/html": "<div>\n<style scoped>\n    .dataframe tbody tr th:only-of-type {\n        vertical-align: middle;\n    }\n\n    .dataframe tbody tr th {\n        vertical-align: top;\n    }\n\n    .dataframe thead th {\n        text-align: right;\n    }\n</style>\n<table border=\"1\" class=\"dataframe\">\n  <thead>\n    <tr style=\"text-align: right;\">\n      <th></th>\n      <th>id</th>\n      <th>main_code</th>\n      <th>name</th>\n      <th>advisor</th>\n      <th>trustee</th>\n      <th>operate_mode_id</th>\n      <th>operate_mode</th>\n      <th>underlying_asset_type_id</th>\n      <th>underlying_asset_type</th>\n      <th>start_date</th>\n      <th>end_date</th>\n    </tr>\n  </thead>\n  <tbody>\n    <tr>\n      <th>0</th>\n      <td>114</td>\n      <td>000198</td>\n      <td>天弘余额宝</td>\n      <td>天弘基金管理有限公司</td>\n      <td>中信银行股份有限公司</td>\n      <td>401001</td>\n      <td>开放式基金</td>\n      <td>402002</td>\n      <td>货币型</td>\n      <td>2013-05-29</td>\n      <td>None</td>\n    </tr>\n  </tbody>\n</table>\n</div>"
     },
     "metadata": {},
     "execution_count": 7
    }
   ],
   "source": [
    "df.head()\n"
   ]
  },
  {
   "cell_type": "code",
   "execution_count": 23,
   "metadata": {},
   "outputs": [
    {
     "output_type": "stream",
     "name": "stdout",
     "text": "2014-01-01 2015-01-01 4.54\n2015-01-01 2016-01-01 3.33\n2016-01-01 2017-01-01 2.22\n2017-01-01 2018-01-01 3.37\n2018-01-01 2019-01-01 2.87\n2019-01-01 2020-01-01 1.92\nNone\n2014-01-01 2017-01-01 10.45\n2015-01-01 2018-01-01 9.2\n2016-01-01 2019-01-01 8.72\n2017-01-01 2020-01-01 8.4\nNone\n2014-01-01 2019-01-01 17.49\n2015-01-01 2020-01-01 14.52\nNone\n"
    }
   ],
   "source": [
    "import datetime\n",
    "from dateutil.relativedelta import relativedelta\n",
    "\n",
    "from jqdatasdk import finance\n",
    "\n",
    "\n",
    "def get_profit(years=1):\n",
    "    min_start_date = datetime.datetime(2014, 1, 1)\n",
    "    max_start_date = datetime.datetime(2020, 1, 1)\n",
    "\n",
    "    for idx, i in enumerate(range(0, 6)):\n",
    "        profit_start_date = min_start_date + relativedelta(years=idx)\n",
    "        profit_end_date = profit_start_date + relativedelta(years=years)\n",
    "        if profit_end_date > max_start_date:\n",
    "            break\n",
    "\n",
    "        start_df = finance.run_query(query(finance.FUND_NET_VALUE).filter(finance.FUND_NET_VALUE.code=='000198', finance.FUND_NET_VALUE.day>profit_start_date.strftime('%Y-%m-%d')).limit(1))\n",
    "        end_df = finance.run_query(query(finance.FUND_NET_VALUE).filter(finance.FUND_NET_VALUE.code=='000198', finance.FUND_NET_VALUE.day<profit_end_date.strftime('%Y-%m-%d')).order_by(finance.FUND_NET_VALUE.day.desc()).limit(1))\n",
    "        start_sum_value = start_df.iloc[0].sum_value \n",
    "        end_sum_value = end_df.iloc[0].sum_value\n",
    "        profit = (end_sum_value - start_sum_value) / start_sum_value\n",
    "        print(profit_start_date.strftime('%Y-%m-%d'), profit_end_date.strftime('%Y-%m-%d'), round(profit * 100, 2))\n",
    "\n",
    "print(get_profit(1))\n",
    "print(get_profit(3))\n",
    "print(get_profit(5))"
   ]
  },
  {
   "cell_type": "code",
   "execution_count": 38,
   "metadata": {},
   "outputs": [
    {
     "output_type": "stream",
     "name": "stdout",
     "text": "710.5631892836698\n1.5090270405242532\n"
    }
   ],
   "source": [
    "foo = 700\n",
    "bar = foo * ((1+0.003) ** 5)\n",
    "print(bar)\n",
    "print(((bar - foo) / foo) * 100)"
   ]
  },
  {
   "cell_type": "code",
   "execution_count": null,
   "metadata": {},
   "outputs": [],
   "source": [
    "700"
   ]
  }
 ],
 "metadata": {
  "language_info": {
   "codemirror_mode": {
    "name": "ipython",
    "version": 3
   },
   "file_extension": ".py",
   "mimetype": "text/x-python",
   "name": "python",
   "nbconvert_exporter": "python",
   "pygments_lexer": "ipython3",
   "version": "3.7.5-final"
  },
  "orig_nbformat": 2,
  "kernelspec": {
   "name": "python37564bitmoonjhp2p8invirtualenv0a40430fb9904e8ead4402bac3e206e2",
   "display_name": "Python 3.7.5 64-bit ('moon-jhP2p8in': virtualenv)"
  }
 },
 "nbformat": 4,
 "nbformat_minor": 2
}