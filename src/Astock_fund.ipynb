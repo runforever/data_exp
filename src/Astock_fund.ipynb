{
 "cells": [
  {
   "cell_type": "markdown",
   "metadata": {},
   "source": [
    "# 分析国内股票型基金的盈亏比"
   ]
  },
  {
   "cell_type": "markdown",
   "metadata": {},
   "source": [
    "导入相关包。"
   ]
  },
  {
   "cell_type": "code",
   "execution_count": 1,
   "metadata": {},
   "outputs": [
    {
     "output_type": "error",
     "ename": "Exception",
     "evalue": "认证失败;\n您的账号或密码有误，请仔细核对您的账号及密码后重新登录；如您忘记密码可在聚宽官网登录页面修改：https://www.joinquant.com/user/login/index?type=login；其他问题请咨询JQData管理员，微信号：JQData02",
     "traceback": [
      "\u001b[0;31m---------------------------------------------------------------------------\u001b[0m",
      "\u001b[0;31mException\u001b[0m                                 Traceback (most recent call last)",
      "\u001b[0;32m<ipython-input-1-49444302c78b>\u001b[0m in \u001b[0;36m<module>\u001b[0;34m\u001b[0m\n\u001b[1;32m      4\u001b[0m \u001b[0;32mfrom\u001b[0m \u001b[0mjqdatasdk\u001b[0m \u001b[0;32mimport\u001b[0m \u001b[0;34m*\u001b[0m\u001b[0;34m\u001b[0m\u001b[0;34m\u001b[0m\u001b[0m\n\u001b[1;32m      5\u001b[0m \u001b[0;34m\u001b[0m\u001b[0m\n\u001b[0;32m----> 6\u001b[0;31m \u001b[0mauth\u001b[0m\u001b[0;34m(\u001b[0m\u001b[0;34m'your account'\u001b[0m\u001b[0;34m,\u001b[0m \u001b[0;34m'your password'\u001b[0m\u001b[0;34m)\u001b[0m\u001b[0;34m\u001b[0m\u001b[0;34m\u001b[0m\u001b[0m\n\u001b[0m\u001b[1;32m      7\u001b[0m \u001b[0mget_ipython\u001b[0m\u001b[0;34m(\u001b[0m\u001b[0;34m)\u001b[0m\u001b[0;34m.\u001b[0m\u001b[0mrun_line_magic\u001b[0m\u001b[0;34m(\u001b[0m\u001b[0;34m'matplotlib'\u001b[0m\u001b[0;34m,\u001b[0m \u001b[0;34m'inline'\u001b[0m\u001b[0;34m)\u001b[0m\u001b[0;34m\u001b[0m\u001b[0;34m\u001b[0m\u001b[0m\n",
      "\u001b[0;32m~/.local/share/virtualenvs/moon-jhP2p8in/lib/python3.7/site-packages/jqdatasdk/__init__.py\u001b[0m in \u001b[0;36mauth\u001b[0;34m(username, password, host, port)\u001b[0m\n\u001b[1;32m     15\u001b[0m \u001b[0;34m\u001b[0m\u001b[0m\n\u001b[1;32m     16\u001b[0m \u001b[0;32mdef\u001b[0m \u001b[0mauth\u001b[0m\u001b[0;34m(\u001b[0m\u001b[0musername\u001b[0m\u001b[0;34m,\u001b[0m \u001b[0mpassword\u001b[0m\u001b[0;34m,\u001b[0m \u001b[0mhost\u001b[0m\u001b[0;34m=\u001b[0m\u001b[0;34m\"39.107.190.114\"\u001b[0m\u001b[0;34m,\u001b[0m \u001b[0mport\u001b[0m\u001b[0;34m=\u001b[0m\u001b[0;36m7000\u001b[0m\u001b[0;34m)\u001b[0m\u001b[0;34m:\u001b[0m\u001b[0;34m\u001b[0m\u001b[0;34m\u001b[0m\u001b[0m\n\u001b[0;32m---> 17\u001b[0;31m     \u001b[0mJQDataClient\u001b[0m\u001b[0;34m.\u001b[0m\u001b[0mset_auth_params\u001b[0m\u001b[0;34m(\u001b[0m\u001b[0mhost\u001b[0m\u001b[0;34m=\u001b[0m\u001b[0mhost\u001b[0m\u001b[0;34m,\u001b[0m \u001b[0mport\u001b[0m\u001b[0;34m=\u001b[0m\u001b[0mport\u001b[0m\u001b[0;34m,\u001b[0m \u001b[0musername\u001b[0m\u001b[0;34m=\u001b[0m\u001b[0musername\u001b[0m\u001b[0;34m,\u001b[0m \u001b[0mpassword\u001b[0m\u001b[0;34m=\u001b[0m\u001b[0mpassword\u001b[0m\u001b[0;34m,\u001b[0m \u001b[0mversion\u001b[0m\u001b[0;34m=\u001b[0m\u001b[0m__version__\u001b[0m\u001b[0;34m)\u001b[0m\u001b[0;34m\u001b[0m\u001b[0;34m\u001b[0m\u001b[0m\n\u001b[0m\u001b[1;32m     18\u001b[0m \u001b[0;34m\u001b[0m\u001b[0m\n\u001b[1;32m     19\u001b[0m \u001b[0;32mdef\u001b[0m \u001b[0mauth_by_token\u001b[0m\u001b[0;34m(\u001b[0m\u001b[0mtoken\u001b[0m\u001b[0;34m,\u001b[0m \u001b[0mhost\u001b[0m\u001b[0;34m=\u001b[0m\u001b[0;34m\"39.107.190.114\"\u001b[0m\u001b[0;34m,\u001b[0m \u001b[0mport\u001b[0m\u001b[0;34m=\u001b[0m\u001b[0;36m7000\u001b[0m\u001b[0;34m)\u001b[0m\u001b[0;34m:\u001b[0m\u001b[0;34m\u001b[0m\u001b[0;34m\u001b[0m\u001b[0m\n",
      "\u001b[0;32m~/.local/share/virtualenvs/moon-jhP2p8in/lib/python3.7/site-packages/jqdatasdk/client.py\u001b[0m in \u001b[0;36mset_auth_params\u001b[0;34m(cls, **params)\u001b[0m\n\u001b[1;32m     69\u001b[0m     \u001b[0;32mdef\u001b[0m \u001b[0mset_auth_params\u001b[0m\u001b[0;34m(\u001b[0m\u001b[0mcls\u001b[0m\u001b[0;34m,\u001b[0m \u001b[0;34m**\u001b[0m\u001b[0mparams\u001b[0m\u001b[0;34m)\u001b[0m\u001b[0;34m:\u001b[0m\u001b[0;34m\u001b[0m\u001b[0;34m\u001b[0m\u001b[0m\n\u001b[1;32m     70\u001b[0m         \u001b[0mcls\u001b[0m\u001b[0;34m.\u001b[0m\u001b[0m_auth_params\u001b[0m \u001b[0;34m=\u001b[0m \u001b[0mparams\u001b[0m\u001b[0;34m\u001b[0m\u001b[0;34m\u001b[0m\u001b[0m\n\u001b[0;32m---> 71\u001b[0;31m         \u001b[0mcls\u001b[0m\u001b[0;34m.\u001b[0m\u001b[0minstance\u001b[0m\u001b[0;34m(\u001b[0m\u001b[0;34m)\u001b[0m\u001b[0;34m.\u001b[0m\u001b[0mensure_auth\u001b[0m\u001b[0;34m(\u001b[0m\u001b[0;34m)\u001b[0m\u001b[0;34m\u001b[0m\u001b[0;34m\u001b[0m\u001b[0m\n\u001b[0m\u001b[1;32m     72\u001b[0m \u001b[0;34m\u001b[0m\u001b[0m\n\u001b[1;32m     73\u001b[0m     \u001b[0;32mdef\u001b[0m \u001b[0mensure_auth\u001b[0m\u001b[0;34m(\u001b[0m\u001b[0mself\u001b[0m\u001b[0;34m)\u001b[0m\u001b[0;34m:\u001b[0m\u001b[0;34m\u001b[0m\u001b[0;34m\u001b[0m\u001b[0m\n",
      "\u001b[0;32m~/.local/share/virtualenvs/moon-jhP2p8in/lib/python3.7/site-packages/jqdatasdk/client.py\u001b[0m in \u001b[0;36mensure_auth\u001b[0;34m(self)\u001b[0m\n\u001b[1;32m     89\u001b[0m             \u001b[0;32mif\u001b[0m \u001b[0;32mnot\u001b[0m \u001b[0mresponse\u001b[0m\u001b[0;34m.\u001b[0m\u001b[0mstatus\u001b[0m\u001b[0;34m:\u001b[0m\u001b[0;34m\u001b[0m\u001b[0;34m\u001b[0m\u001b[0m\n\u001b[1;32m     90\u001b[0m                 \u001b[0mself\u001b[0m\u001b[0;34m.\u001b[0m\u001b[0m_threading_local\u001b[0m\u001b[0;34m.\u001b[0m\u001b[0m_instance\u001b[0m \u001b[0;34m=\u001b[0m \u001b[0;32mNone\u001b[0m\u001b[0;34m\u001b[0m\u001b[0;34m\u001b[0m\u001b[0m\n\u001b[0;32m---> 91\u001b[0;31m                 \u001b[0;32mraise\u001b[0m \u001b[0mself\u001b[0m\u001b[0;34m.\u001b[0m\u001b[0mget_error\u001b[0m\u001b[0;34m(\u001b[0m\u001b[0mresponse\u001b[0m\u001b[0;34m)\u001b[0m\u001b[0;34m\u001b[0m\u001b[0;34m\u001b[0m\u001b[0m\n\u001b[0m\u001b[1;32m     92\u001b[0m             \u001b[0;32melse\u001b[0m\u001b[0;34m:\u001b[0m\u001b[0;34m\u001b[0m\u001b[0;34m\u001b[0m\u001b[0m\n\u001b[1;32m     93\u001b[0m                 \u001b[0;32mif\u001b[0m \u001b[0mself\u001b[0m\u001b[0;34m.\u001b[0m\u001b[0mnot_auth\u001b[0m\u001b[0;34m:\u001b[0m\u001b[0;34m\u001b[0m\u001b[0;34m\u001b[0m\u001b[0m\n",
      "\u001b[0;31mException\u001b[0m: 认证失败;\n您的账号或密码有误，请仔细核对您的账号及密码后重新登录；如您忘记密码可在聚宽官网登录页面修改：https://www.joinquant.com/user/login/index?type=login；其他问题请咨询JQData管理员，微信号：JQData02"
     ]
    }
   ],
   "source": [
    "import datetime\n",
    "\n",
    "import pandas as pd\n",
    "from jqdatasdk import *\n",
    "\n",
    "auth('your account', 'your password')\n",
    "%matplotlib inline"
   ]
  },
  {
   "cell_type": "markdown",
   "metadata": {},
   "source": [
    "获取所有股票型基金数据。"
   ]
  },
  {
   "cell_type": "code",
   "execution_count": 69,
   "metadata": {},
   "outputs": [
    {
     "output_type": "stream",
     "name": "stdout",
     "text": "(1020, 11)\n"
    }
   ],
   "source": [
    "# 获取所有成立超过 3 年的股票型基金数据\n",
    "year_range = 3\n",
    "now = datetime.date.today()\n",
    "\n",
    "start_year = now.year - year_range\n",
    "fund_end_date = datetime.datetime(start_year, 1, 1).strftime('%Y-%m-%d')\n",
    "\n",
    "# 结果集\n",
    "result = None\n",
    "\n",
    "page = 0\n",
    "page_size = 3000\n",
    "while 1:\n",
    "    df = finance.run_query(\n",
    "        query(finance.FUND_MAIN_INFO).filter(\n",
    "            finance.FUND_MAIN_INFO.underlying_asset_type_id=='402001',\n",
    "            finance.FUND_MAIN_INFO.start_date<fund_end_date,\n",
    "        ).offset(page * page_size).limit(3000)\n",
    "    )\n",
    "    if df.empty:\n",
    "        break\n",
    "    if result is None:\n",
    "        result = df\n",
    "    else:\n",
    "        result = pd.concat([result, df], ignore_index=True)\n",
    "    page += 1\n",
    "\n",
    "print(result.shape)"
   ]
  },
  {
   "cell_type": "markdown",
   "metadata": {},
   "source": [
    "抽样，打乱结果集顺序，抽取前 30% 的数据来分析"
   ]
  },
  {
   "cell_type": "code",
   "execution_count": 70,
   "metadata": {},
   "outputs": [],
   "source": [
    "if year_range == 5:\n",
    "    random_result = result\n",
    "\n",
    "if year_range == 3:\n",
    "    random_count = round(result.shape[0] * 0.3)\n",
    "    random_result = result.sample(frac=1).iloc[:random_count]"
   ]
  },
  {
   "cell_type": "code",
   "execution_count": 71,
   "metadata": {},
   "outputs": [
    {
     "output_type": "execute_result",
     "data": {
      "text/plain": "       id main_code        name       advisor         trustee  \\\n168  1077    001663    中银互联网+股票    中银基金管理有限公司      招商银行股份有限公司   \n430  4382    510650        金融行业    华夏基金管理有限公司    中国建设银行股份有限公司   \n2      25    000043    嘉实美国成长股票    嘉实基金管理有限公司      中国银行股份有限公司   \n664  7577    001149       汇丰恒生C  汇丰晋信基金管理有限公司  中国邮政储蓄银行股份有限公司   \n716  8401    003721  易标普信息科技美元汇   易方达基金管理有限公司    中国建设银行股份有限公司   \n\n     operate_mode_id operate_mode  underlying_asset_type_id  \\\n168           401001        开放式基金                    402001   \n430           401005          ETF                    402001   \n2             401003         QDII                    402001   \n664           401001        开放式基金                    402001   \n716           401003         QDII                    402001   \n\n    underlying_asset_type  start_date end_date  \n168                   股票型  2015-08-06     None  \n430                   股票型  2013-03-28     None  \n2                     股票型  2013-06-14     None  \n664                   股票型  2015-04-01     None  \n716                   股票型  2016-12-13     None  ",
      "text/html": "<div>\n<style scoped>\n    .dataframe tbody tr th:only-of-type {\n        vertical-align: middle;\n    }\n\n    .dataframe tbody tr th {\n        vertical-align: top;\n    }\n\n    .dataframe thead th {\n        text-align: right;\n    }\n</style>\n<table border=\"1\" class=\"dataframe\">\n  <thead>\n    <tr style=\"text-align: right;\">\n      <th></th>\n      <th>id</th>\n      <th>main_code</th>\n      <th>name</th>\n      <th>advisor</th>\n      <th>trustee</th>\n      <th>operate_mode_id</th>\n      <th>operate_mode</th>\n      <th>underlying_asset_type_id</th>\n      <th>underlying_asset_type</th>\n      <th>start_date</th>\n      <th>end_date</th>\n    </tr>\n  </thead>\n  <tbody>\n    <tr>\n      <th>168</th>\n      <td>1077</td>\n      <td>001663</td>\n      <td>中银互联网+股票</td>\n      <td>中银基金管理有限公司</td>\n      <td>招商银行股份有限公司</td>\n      <td>401001</td>\n      <td>开放式基金</td>\n      <td>402001</td>\n      <td>股票型</td>\n      <td>2015-08-06</td>\n      <td>None</td>\n    </tr>\n    <tr>\n      <th>430</th>\n      <td>4382</td>\n      <td>510650</td>\n      <td>金融行业</td>\n      <td>华夏基金管理有限公司</td>\n      <td>中国建设银行股份有限公司</td>\n      <td>401005</td>\n      <td>ETF</td>\n      <td>402001</td>\n      <td>股票型</td>\n      <td>2013-03-28</td>\n      <td>None</td>\n    </tr>\n    <tr>\n      <th>2</th>\n      <td>25</td>\n      <td>000043</td>\n      <td>嘉实美国成长股票</td>\n      <td>嘉实基金管理有限公司</td>\n      <td>中国银行股份有限公司</td>\n      <td>401003</td>\n      <td>QDII</td>\n      <td>402001</td>\n      <td>股票型</td>\n      <td>2013-06-14</td>\n      <td>None</td>\n    </tr>\n    <tr>\n      <th>664</th>\n      <td>7577</td>\n      <td>001149</td>\n      <td>汇丰恒生C</td>\n      <td>汇丰晋信基金管理有限公司</td>\n      <td>中国邮政储蓄银行股份有限公司</td>\n      <td>401001</td>\n      <td>开放式基金</td>\n      <td>402001</td>\n      <td>股票型</td>\n      <td>2015-04-01</td>\n      <td>None</td>\n    </tr>\n    <tr>\n      <th>716</th>\n      <td>8401</td>\n      <td>003721</td>\n      <td>易标普信息科技美元汇</td>\n      <td>易方达基金管理有限公司</td>\n      <td>中国建设银行股份有限公司</td>\n      <td>401003</td>\n      <td>QDII</td>\n      <td>402001</td>\n      <td>股票型</td>\n      <td>2016-12-13</td>\n      <td>None</td>\n    </tr>\n  </tbody>\n</table>\n</div>"
     },
     "metadata": {},
     "execution_count": 71
    }
   ],
   "source": [
    "random_result.head()"
   ]
  },
  {
   "cell_type": "markdown",
   "metadata": {},
   "source": [
    "获取样本中 3 年时间段初始累积净值和结束累积净值"
   ]
  },
  {
   "cell_type": "code",
   "execution_count": 72,
   "metadata": {
    "tags": [
     "outputPrepend",
     "outputPrepend",
     "outputPrepend",
     "outputPrepend",
     "outputPrepend",
     "outputPrepend",
     "outputPrepend",
     "outputPrepend",
     "outputPrepend",
     "outputPrepend",
     "outputPrepend",
     "outputPrepend",
     "outputPrepend",
     "outputPrepend",
     "outputPrepend",
     "outputPrepend",
     "outputPrepend",
     "outputPrepend",
     "outputPrepend",
     "outputPrepend",
     "outputPrepend",
     "outputPrepend",
     "outputPrepend",
     "outputPrepend",
     "outputPrepend",
     "outputPrepend",
     "outputPrepend",
     "outputPrepend",
     "outputPrepend",
     "outputPrepend",
     "outputPrepend",
     "outputPrepend",
     "outputPrepend",
     "outputPrepend",
     "outputPrepend",
     "outputPrepend",
     "outputPrepend",
     "outputPrepend"
    ]
   },
   "outputs": [],
   "source": [
    "start_values = []\n",
    "end_values = []\n",
    "\n",
    "for _, row in random_result.iterrows():\n",
    "    code = row['main_code']\n",
    "    start_date = row['start_date']\n",
    "\n",
    "    perf_start_date = start_date.strftime('%Y-%m-%d')\n",
    "    perf_end_date = datetime.datetime(start_date.year+year_range, start_date.month, start_date.day).strftime('%Y-%m-%d')\n",
    "\n",
    "    q = query(finance.FUND_NET_VALUE).filter(\n",
    "        finance.FUND_NET_VALUE.code==code,\n",
    "        finance.FUND_NET_VALUE.day>=perf_start_date\n",
    "        ).order_by(finance.FUND_NET_VALUE.day.asc()).limit(1)\n",
    "    df = finance.run_query(q)\n",
    "    start_values.append(df.sum_value.values[0] or df.net_value.values[0])\n",
    "\n",
    "    q = query(finance.FUND_NET_VALUE).filter(\n",
    "        finance.FUND_NET_VALUE.code==code,\n",
    "        finance.FUND_NET_VALUE.day<=perf_end_date\n",
    "        ).order_by(finance.FUND_NET_VALUE.day.desc()).limit(1)\n",
    "    df = finance.run_query(q)\n",
    "    if df.empty:\n",
    "        end_values.append(start_values[-1])\n",
    "    else:\n",
    "        end_values.append(df.sum_value.values[0] or df.net_value.values[0])"
   ]
  },
  {
   "cell_type": "markdown",
   "metadata": {},
   "source": [
    "计算样本收益"
   ]
  },
  {
   "cell_type": "code",
   "execution_count": 73,
   "metadata": {},
   "outputs": [],
   "source": [
    "random_result['start_value'] = start_values\n",
    "random_result['end_value'] = end_values\n",
    "random_result['profit'] = (random_result['end_value'] - random_result['start_value'])/random_result['start_value']"
   ]
  },
  {
   "cell_type": "code",
   "execution_count": 74,
   "metadata": {},
   "outputs": [
    {
     "output_type": "execute_result",
     "data": {
      "text/plain": "       id main_code        name       advisor         trustee  \\\n168  1077    001663    中银互联网+股票    中银基金管理有限公司      招商银行股份有限公司   \n430  4382    510650        金融行业    华夏基金管理有限公司    中国建设银行股份有限公司   \n2      25    000043    嘉实美国成长股票    嘉实基金管理有限公司      中国银行股份有限公司   \n664  7577    001149       汇丰恒生C  汇丰晋信基金管理有限公司  中国邮政储蓄银行股份有限公司   \n716  8401    003721  易标普信息科技美元汇   易方达基金管理有限公司    中国建设银行股份有限公司   \n\n     operate_mode_id operate_mode  underlying_asset_type_id  \\\n168           401001        开放式基金                    402001   \n430           401005          ETF                    402001   \n2             401003         QDII                    402001   \n664           401001        开放式基金                    402001   \n716           401003         QDII                    402001   \n\n    underlying_asset_type  start_date end_date  start_value  end_value  \\\n168                   股票型  2015-08-06     None       1.0000     0.8210   \n430                   股票型  2013-03-28     None       1.0000     1.3685   \n2                     股票型  2013-06-14     None       1.0000     1.2820   \n664                   股票型  2015-04-01     None       1.5159     1.9203   \n716                   股票型  2016-12-13     None       0.1449     0.2568   \n\n       profit  \n168 -0.179000  \n430  0.368500  \n2    0.282000  \n664  0.266772  \n716  0.772257  ",
      "text/html": "<div>\n<style scoped>\n    .dataframe tbody tr th:only-of-type {\n        vertical-align: middle;\n    }\n\n    .dataframe tbody tr th {\n        vertical-align: top;\n    }\n\n    .dataframe thead th {\n        text-align: right;\n    }\n</style>\n<table border=\"1\" class=\"dataframe\">\n  <thead>\n    <tr style=\"text-align: right;\">\n      <th></th>\n      <th>id</th>\n      <th>main_code</th>\n      <th>name</th>\n      <th>advisor</th>\n      <th>trustee</th>\n      <th>operate_mode_id</th>\n      <th>operate_mode</th>\n      <th>underlying_asset_type_id</th>\n      <th>underlying_asset_type</th>\n      <th>start_date</th>\n      <th>end_date</th>\n      <th>start_value</th>\n      <th>end_value</th>\n      <th>profit</th>\n    </tr>\n  </thead>\n  <tbody>\n    <tr>\n      <th>168</th>\n      <td>1077</td>\n      <td>001663</td>\n      <td>中银互联网+股票</td>\n      <td>中银基金管理有限公司</td>\n      <td>招商银行股份有限公司</td>\n      <td>401001</td>\n      <td>开放式基金</td>\n      <td>402001</td>\n      <td>股票型</td>\n      <td>2015-08-06</td>\n      <td>None</td>\n      <td>1.0000</td>\n      <td>0.8210</td>\n      <td>-0.179000</td>\n    </tr>\n    <tr>\n      <th>430</th>\n      <td>4382</td>\n      <td>510650</td>\n      <td>金融行业</td>\n      <td>华夏基金管理有限公司</td>\n      <td>中国建设银行股份有限公司</td>\n      <td>401005</td>\n      <td>ETF</td>\n      <td>402001</td>\n      <td>股票型</td>\n      <td>2013-03-28</td>\n      <td>None</td>\n      <td>1.0000</td>\n      <td>1.3685</td>\n      <td>0.368500</td>\n    </tr>\n    <tr>\n      <th>2</th>\n      <td>25</td>\n      <td>000043</td>\n      <td>嘉实美国成长股票</td>\n      <td>嘉实基金管理有限公司</td>\n      <td>中国银行股份有限公司</td>\n      <td>401003</td>\n      <td>QDII</td>\n      <td>402001</td>\n      <td>股票型</td>\n      <td>2013-06-14</td>\n      <td>None</td>\n      <td>1.0000</td>\n      <td>1.2820</td>\n      <td>0.282000</td>\n    </tr>\n    <tr>\n      <th>664</th>\n      <td>7577</td>\n      <td>001149</td>\n      <td>汇丰恒生C</td>\n      <td>汇丰晋信基金管理有限公司</td>\n      <td>中国邮政储蓄银行股份有限公司</td>\n      <td>401001</td>\n      <td>开放式基金</td>\n      <td>402001</td>\n      <td>股票型</td>\n      <td>2015-04-01</td>\n      <td>None</td>\n      <td>1.5159</td>\n      <td>1.9203</td>\n      <td>0.266772</td>\n    </tr>\n    <tr>\n      <th>716</th>\n      <td>8401</td>\n      <td>003721</td>\n      <td>易标普信息科技美元汇</td>\n      <td>易方达基金管理有限公司</td>\n      <td>中国建设银行股份有限公司</td>\n      <td>401003</td>\n      <td>QDII</td>\n      <td>402001</td>\n      <td>股票型</td>\n      <td>2016-12-13</td>\n      <td>None</td>\n      <td>0.1449</td>\n      <td>0.2568</td>\n      <td>0.772257</td>\n    </tr>\n  </tbody>\n</table>\n</div>"
     },
     "metadata": {},
     "execution_count": 74
    }
   ],
   "source": [
    "random_result.head()"
   ]
  },
  {
   "cell_type": "markdown",
   "metadata": {},
   "source": [
    "获取收益的均值、标准差等统计信息"
   ]
  },
  {
   "cell_type": "code",
   "execution_count": 75,
   "metadata": {},
   "outputs": [
    {
     "output_type": "execute_result",
     "data": {
      "text/plain": "count    306.000000\nmean       0.082556\nstd        0.477168\nmin       -0.986800\n25%       -0.196875\n50%        0.067647\n75%        0.325325\nmax        3.993000\nName: profit, dtype: float64"
     },
     "metadata": {},
     "execution_count": 75
    }
   ],
   "source": [
    "random_result.profit.describe()"
   ]
  },
  {
   "cell_type": "markdown",
   "metadata": {},
   "source": [
    "计算样本的盈亏比例"
   ]
  },
  {
   "cell_type": "code",
   "execution_count": 76,
   "metadata": {},
   "outputs": [
    {
     "output_type": "stream",
     "name": "stdout",
     "text": "样本总数: 306, 亏损数: 130, 盈利数: 176, 亏损比例: 0.42, 盈利比例: 0.58\n"
    }
   ],
   "source": [
    "profits = random_result.profit.values\n",
    "total = len(profits)\n",
    "loss = sum(1 for i in profits if i <= 0)\n",
    "win = sum(1 for j in profits if j > 0)\n",
    "print('样本总数: %s, 亏损数: %s, 盈利数: %s, 亏损比例: %s, 盈利比例: %s' % (total, loss, win, round(loss/float(total), 2), round(win/float(total), 2)))"
   ]
  },
  {
   "cell_type": "markdown",
   "metadata": {},
   "source": [
    "查看样本盈亏直方图"
   ]
  },
  {
   "cell_type": "code",
   "execution_count": 77,
   "metadata": {},
   "outputs": [
    {
     "output_type": "execute_result",
     "data": {
      "text/plain": "<matplotlib.axes._subplots.AxesSubplot at 0x11e05a110>"
     },
     "metadata": {},
     "execution_count": 77
    },
    {
     "output_type": "display_data",
     "data": {
      "text/plain": "<Figure size 432x288 with 1 Axes>",
      "image/svg+xml": "<?xml version=\"1.0\" encoding=\"utf-8\" standalone=\"no\"?>\n<!DOCTYPE svg PUBLIC \"-//W3C//DTD SVG 1.1//EN\"\n  \"http://www.w3.org/Graphics/SVG/1.1/DTD/svg11.dtd\">\n<!-- Created with matplotlib (https://matplotlib.org/) -->\n<svg height=\"248.518125pt\" version=\"1.1\" viewBox=\"0 0 368.925 248.518125\" width=\"368.925pt\" xmlns=\"http://www.w3.org/2000/svg\" xmlns:xlink=\"http://www.w3.org/1999/xlink\">\n <defs>\n  <style type=\"text/css\">\n*{stroke-linecap:butt;stroke-linejoin:round;}\n  </style>\n </defs>\n <g id=\"figure_1\">\n  <g id=\"patch_1\">\n   <path d=\"M -0 248.518125 \nL 368.925 248.518125 \nL 368.925 0 \nL -0 0 \nz\n\" style=\"fill:none;\"/>\n  </g>\n  <g id=\"axes_1\">\n   <g id=\"patch_2\">\n    <path d=\"M 26.925 224.64 \nL 361.725 224.64 \nL 361.725 7.2 \nL 26.925 7.2 \nz\n\" style=\"fill:#ffffff;\"/>\n   </g>\n   <g id=\"patch_3\">\n    <path clip-path=\"url(#pa9a329bd8b)\" d=\"M 42.143182 224.64 \nL 52.288636 224.64 \nL 52.288636 194.518442 \nL 42.143182 194.518442 \nz\n\" style=\"fill:#1f77b4;\"/>\n   </g>\n   <g id=\"patch_4\">\n    <path clip-path=\"url(#pa9a329bd8b)\" d=\"M 52.288636 224.64 \nL 62.434091 224.64 \nL 62.434091 190.753247 \nL 52.288636 190.753247 \nz\n\" style=\"fill:#1f77b4;\"/>\n   </g>\n   <g id=\"patch_5\">\n    <path clip-path=\"url(#pa9a329bd8b)\" d=\"M 62.434091 224.64 \nL 72.579545 224.64 \nL 72.579545 190.753247 \nL 62.434091 190.753247 \nz\n\" style=\"fill:#1f77b4;\"/>\n   </g>\n   <g id=\"patch_6\">\n    <path clip-path=\"url(#pa9a329bd8b)\" d=\"M 72.579545 224.64 \nL 82.725 224.64 \nL 82.725 153.101299 \nL 72.579545 153.101299 \nz\n\" style=\"fill:#1f77b4;\"/>\n   </g>\n   <g id=\"patch_7\">\n    <path clip-path=\"url(#pa9a329bd8b)\" d=\"M 82.725 224.64 \nL 92.870455 224.64 \nL 92.870455 58.971429 \nL 82.725 58.971429 \nz\n\" style=\"fill:#1f77b4;\"/>\n   </g>\n   <g id=\"patch_8\">\n    <path clip-path=\"url(#pa9a329bd8b)\" d=\"M 92.870455 224.64 \nL 103.015909 224.64 \nL 103.015909 58.971429 \nL 92.870455 58.971429 \nz\n\" style=\"fill:#1f77b4;\"/>\n   </g>\n   <g id=\"patch_9\">\n    <path clip-path=\"url(#pa9a329bd8b)\" d=\"M 103.015909 224.64 \nL 113.161364 224.64 \nL 113.161364 17.554286 \nL 103.015909 17.554286 \nz\n\" style=\"fill:#1f77b4;\"/>\n   </g>\n   <g id=\"patch_10\">\n    <path clip-path=\"url(#pa9a329bd8b)\" d=\"M 113.161364 224.64 \nL 123.306818 224.64 \nL 123.306818 55.206234 \nL 113.161364 55.206234 \nz\n\" style=\"fill:#1f77b4;\"/>\n   </g>\n   <g id=\"patch_11\">\n    <path clip-path=\"url(#pa9a329bd8b)\" d=\"M 123.306818 224.64 \nL 133.452273 224.64 \nL 133.452273 100.388571 \nL 123.306818 100.388571 \nz\n\" style=\"fill:#1f77b4;\"/>\n   </g>\n   <g id=\"patch_12\">\n    <path clip-path=\"url(#pa9a329bd8b)\" d=\"M 133.452273 224.64 \nL 143.597727 224.64 \nL 143.597727 153.101299 \nL 133.452273 153.101299 \nz\n\" style=\"fill:#1f77b4;\"/>\n   </g>\n   <g id=\"patch_13\">\n    <path clip-path=\"url(#pa9a329bd8b)\" d=\"M 143.597727 224.64 \nL 153.743182 224.64 \nL 153.743182 186.988052 \nL 143.597727 186.988052 \nz\n\" style=\"fill:#1f77b4;\"/>\n   </g>\n   <g id=\"patch_14\">\n    <path clip-path=\"url(#pa9a329bd8b)\" d=\"M 153.743182 224.64 \nL 163.888636 224.64 \nL 163.888636 213.344416 \nL 153.743182 213.344416 \nz\n\" style=\"fill:#1f77b4;\"/>\n   </g>\n   <g id=\"patch_15\">\n    <path clip-path=\"url(#pa9a329bd8b)\" d=\"M 163.888636 224.64 \nL 174.034091 224.64 \nL 174.034091 217.10961 \nL 163.888636 217.10961 \nz\n\" style=\"fill:#1f77b4;\"/>\n   </g>\n   <g id=\"patch_16\">\n    <path clip-path=\"url(#pa9a329bd8b)\" d=\"M 174.034091 224.64 \nL 184.179545 224.64 \nL 184.179545 217.10961 \nL 174.034091 217.10961 \nz\n\" style=\"fill:#1f77b4;\"/>\n   </g>\n   <g id=\"patch_17\">\n    <path clip-path=\"url(#pa9a329bd8b)\" d=\"M 184.179545 224.64 \nL 194.325 224.64 \nL 194.325 213.344416 \nL 184.179545 213.344416 \nz\n\" style=\"fill:#1f77b4;\"/>\n   </g>\n   <g id=\"patch_18\">\n    <path clip-path=\"url(#pa9a329bd8b)\" d=\"M 194.325 224.64 \nL 204.470455 224.64 \nL 204.470455 224.64 \nL 194.325 224.64 \nz\n\" style=\"fill:#1f77b4;\"/>\n   </g>\n   <g id=\"patch_19\">\n    <path clip-path=\"url(#pa9a329bd8b)\" d=\"M 204.470455 224.64 \nL 214.615909 224.64 \nL 214.615909 224.64 \nL 204.470455 224.64 \nz\n\" style=\"fill:#1f77b4;\"/>\n   </g>\n   <g id=\"patch_20\">\n    <path clip-path=\"url(#pa9a329bd8b)\" d=\"M 214.615909 224.64 \nL 224.761364 224.64 \nL 224.761364 224.64 \nL 214.615909 224.64 \nz\n\" style=\"fill:#1f77b4;\"/>\n   </g>\n   <g id=\"patch_21\">\n    <path clip-path=\"url(#pa9a329bd8b)\" d=\"M 224.761364 224.64 \nL 234.906818 224.64 \nL 234.906818 224.64 \nL 224.761364 224.64 \nz\n\" style=\"fill:#1f77b4;\"/>\n   </g>\n   <g id=\"patch_22\">\n    <path clip-path=\"url(#pa9a329bd8b)\" d=\"M 234.906818 224.64 \nL 245.052273 224.64 \nL 245.052273 224.64 \nL 234.906818 224.64 \nz\n\" style=\"fill:#1f77b4;\"/>\n   </g>\n   <g id=\"patch_23\">\n    <path clip-path=\"url(#pa9a329bd8b)\" d=\"M 245.052273 224.64 \nL 255.197727 224.64 \nL 255.197727 224.64 \nL 245.052273 224.64 \nz\n\" style=\"fill:#1f77b4;\"/>\n   </g>\n   <g id=\"patch_24\">\n    <path clip-path=\"url(#pa9a329bd8b)\" d=\"M 255.197727 224.64 \nL 265.343182 224.64 \nL 265.343182 224.64 \nL 255.197727 224.64 \nz\n\" style=\"fill:#1f77b4;\"/>\n   </g>\n   <g id=\"patch_25\">\n    <path clip-path=\"url(#pa9a329bd8b)\" d=\"M 265.343182 224.64 \nL 275.488636 224.64 \nL 275.488636 224.64 \nL 265.343182 224.64 \nz\n\" style=\"fill:#1f77b4;\"/>\n   </g>\n   <g id=\"patch_26\">\n    <path clip-path=\"url(#pa9a329bd8b)\" d=\"M 275.488636 224.64 \nL 285.634091 224.64 \nL 285.634091 224.64 \nL 275.488636 224.64 \nz\n\" style=\"fill:#1f77b4;\"/>\n   </g>\n   <g id=\"patch_27\">\n    <path clip-path=\"url(#pa9a329bd8b)\" d=\"M 285.634091 224.64 \nL 295.779545 224.64 \nL 295.779545 224.64 \nL 285.634091 224.64 \nz\n\" style=\"fill:#1f77b4;\"/>\n   </g>\n   <g id=\"patch_28\">\n    <path clip-path=\"url(#pa9a329bd8b)\" d=\"M 295.779545 224.64 \nL 305.925 224.64 \nL 305.925 224.64 \nL 295.779545 224.64 \nz\n\" style=\"fill:#1f77b4;\"/>\n   </g>\n   <g id=\"patch_29\">\n    <path clip-path=\"url(#pa9a329bd8b)\" d=\"M 305.925 224.64 \nL 316.070455 224.64 \nL 316.070455 224.64 \nL 305.925 224.64 \nz\n\" style=\"fill:#1f77b4;\"/>\n   </g>\n   <g id=\"patch_30\">\n    <path clip-path=\"url(#pa9a329bd8b)\" d=\"M 316.070455 224.64 \nL 326.215909 224.64 \nL 326.215909 224.64 \nL 316.070455 224.64 \nz\n\" style=\"fill:#1f77b4;\"/>\n   </g>\n   <g id=\"patch_31\">\n    <path clip-path=\"url(#pa9a329bd8b)\" d=\"M 326.215909 224.64 \nL 336.361364 224.64 \nL 336.361364 224.64 \nL 326.215909 224.64 \nz\n\" style=\"fill:#1f77b4;\"/>\n   </g>\n   <g id=\"patch_32\">\n    <path clip-path=\"url(#pa9a329bd8b)\" d=\"M 336.361364 224.64 \nL 346.506818 224.64 \nL 346.506818 220.874805 \nL 336.361364 220.874805 \nz\n\" style=\"fill:#1f77b4;\"/>\n   </g>\n   <g id=\"matplotlib.axis_1\">\n    <g id=\"xtick_1\">\n     <g id=\"line2d_1\">\n      <path clip-path=\"url(#pa9a329bd8b)\" d=\"M 41.336402 224.64 \nL 41.336402 7.2 \n\" style=\"fill:none;stroke:#b0b0b0;stroke-linecap:square;stroke-width:0.8;\"/>\n     </g>\n     <g id=\"line2d_2\">\n      <defs>\n       <path d=\"M 0 0 \nL 0 3.5 \n\" id=\"mf29387cb41\" style=\"stroke:#000000;stroke-width:0.8;\"/>\n      </defs>\n      <g>\n       <use style=\"stroke:#000000;stroke-width:0.8;\" x=\"41.336402\" xlink:href=\"#mf29387cb41\" y=\"224.64\"/>\n      </g>\n     </g>\n     <g id=\"text_1\">\n      <!-- −1 -->\n      <defs>\n       <path d=\"M 10.59375 35.5 \nL 73.1875 35.5 \nL 73.1875 27.203125 \nL 10.59375 27.203125 \nz\n\" id=\"DejaVuSans-8722\"/>\n       <path d=\"M 12.40625 8.296875 \nL 28.515625 8.296875 \nL 28.515625 63.921875 \nL 10.984375 60.40625 \nL 10.984375 69.390625 \nL 28.421875 72.90625 \nL 38.28125 72.90625 \nL 38.28125 8.296875 \nL 54.390625 8.296875 \nL 54.390625 0 \nL 12.40625 0 \nz\n\" id=\"DejaVuSans-49\"/>\n      </defs>\n      <g transform=\"translate(33.965309 239.238437)scale(0.1 -0.1)\">\n       <use xlink:href=\"#DejaVuSans-8722\"/>\n       <use x=\"83.789062\" xlink:href=\"#DejaVuSans-49\"/>\n      </g>\n     </g>\n    </g>\n    <g id=\"xtick_2\">\n     <g id=\"line2d_3\">\n      <path clip-path=\"url(#pa9a329bd8b)\" d=\"M 102.456053 224.64 \nL 102.456053 7.2 \n\" style=\"fill:none;stroke:#b0b0b0;stroke-linecap:square;stroke-width:0.8;\"/>\n     </g>\n     <g id=\"line2d_4\">\n      <g>\n       <use style=\"stroke:#000000;stroke-width:0.8;\" x=\"102.456053\" xlink:href=\"#mf29387cb41\" y=\"224.64\"/>\n      </g>\n     </g>\n     <g id=\"text_2\">\n      <!-- 0 -->\n      <defs>\n       <path d=\"M 31.78125 66.40625 \nQ 24.171875 66.40625 20.328125 58.90625 \nQ 16.5 51.421875 16.5 36.375 \nQ 16.5 21.390625 20.328125 13.890625 \nQ 24.171875 6.390625 31.78125 6.390625 \nQ 39.453125 6.390625 43.28125 13.890625 \nQ 47.125 21.390625 47.125 36.375 \nQ 47.125 51.421875 43.28125 58.90625 \nQ 39.453125 66.40625 31.78125 66.40625 \nz\nM 31.78125 74.21875 \nQ 44.046875 74.21875 50.515625 64.515625 \nQ 56.984375 54.828125 56.984375 36.375 \nQ 56.984375 17.96875 50.515625 8.265625 \nQ 44.046875 -1.421875 31.78125 -1.421875 \nQ 19.53125 -1.421875 13.0625 8.265625 \nQ 6.59375 17.96875 6.59375 36.375 \nQ 6.59375 54.828125 13.0625 64.515625 \nQ 19.53125 74.21875 31.78125 74.21875 \nz\n\" id=\"DejaVuSans-48\"/>\n      </defs>\n      <g transform=\"translate(99.274803 239.238437)scale(0.1 -0.1)\">\n       <use xlink:href=\"#DejaVuSans-48\"/>\n      </g>\n     </g>\n    </g>\n    <g id=\"xtick_3\">\n     <g id=\"line2d_5\">\n      <path clip-path=\"url(#pa9a329bd8b)\" d=\"M 163.575704 224.64 \nL 163.575704 7.2 \n\" style=\"fill:none;stroke:#b0b0b0;stroke-linecap:square;stroke-width:0.8;\"/>\n     </g>\n     <g id=\"line2d_6\">\n      <g>\n       <use style=\"stroke:#000000;stroke-width:0.8;\" x=\"163.575704\" xlink:href=\"#mf29387cb41\" y=\"224.64\"/>\n      </g>\n     </g>\n     <g id=\"text_3\">\n      <!-- 1 -->\n      <g transform=\"translate(160.394454 239.238437)scale(0.1 -0.1)\">\n       <use xlink:href=\"#DejaVuSans-49\"/>\n      </g>\n     </g>\n    </g>\n    <g id=\"xtick_4\">\n     <g id=\"line2d_7\">\n      <path clip-path=\"url(#pa9a329bd8b)\" d=\"M 224.695354 224.64 \nL 224.695354 7.2 \n\" style=\"fill:none;stroke:#b0b0b0;stroke-linecap:square;stroke-width:0.8;\"/>\n     </g>\n     <g id=\"line2d_8\">\n      <g>\n       <use style=\"stroke:#000000;stroke-width:0.8;\" x=\"224.695354\" xlink:href=\"#mf29387cb41\" y=\"224.64\"/>\n      </g>\n     </g>\n     <g id=\"text_4\">\n      <!-- 2 -->\n      <defs>\n       <path d=\"M 19.1875 8.296875 \nL 53.609375 8.296875 \nL 53.609375 0 \nL 7.328125 0 \nL 7.328125 8.296875 \nQ 12.9375 14.109375 22.625 23.890625 \nQ 32.328125 33.6875 34.8125 36.53125 \nQ 39.546875 41.84375 41.421875 45.53125 \nQ 43.3125 49.21875 43.3125 52.78125 \nQ 43.3125 58.59375 39.234375 62.25 \nQ 35.15625 65.921875 28.609375 65.921875 \nQ 23.96875 65.921875 18.8125 64.3125 \nQ 13.671875 62.703125 7.8125 59.421875 \nL 7.8125 69.390625 \nQ 13.765625 71.78125 18.9375 73 \nQ 24.125 74.21875 28.421875 74.21875 \nQ 39.75 74.21875 46.484375 68.546875 \nQ 53.21875 62.890625 53.21875 53.421875 \nQ 53.21875 48.921875 51.53125 44.890625 \nQ 49.859375 40.875 45.40625 35.40625 \nQ 44.1875 33.984375 37.640625 27.21875 \nQ 31.109375 20.453125 19.1875 8.296875 \nz\n\" id=\"DejaVuSans-50\"/>\n      </defs>\n      <g transform=\"translate(221.514104 239.238437)scale(0.1 -0.1)\">\n       <use xlink:href=\"#DejaVuSans-50\"/>\n      </g>\n     </g>\n    </g>\n    <g id=\"xtick_5\">\n     <g id=\"line2d_9\">\n      <path clip-path=\"url(#pa9a329bd8b)\" d=\"M 285.815005 224.64 \nL 285.815005 7.2 \n\" style=\"fill:none;stroke:#b0b0b0;stroke-linecap:square;stroke-width:0.8;\"/>\n     </g>\n     <g id=\"line2d_10\">\n      <g>\n       <use style=\"stroke:#000000;stroke-width:0.8;\" x=\"285.815005\" xlink:href=\"#mf29387cb41\" y=\"224.64\"/>\n      </g>\n     </g>\n     <g id=\"text_5\">\n      <!-- 3 -->\n      <defs>\n       <path d=\"M 40.578125 39.3125 \nQ 47.65625 37.796875 51.625 33 \nQ 55.609375 28.21875 55.609375 21.1875 \nQ 55.609375 10.40625 48.1875 4.484375 \nQ 40.765625 -1.421875 27.09375 -1.421875 \nQ 22.515625 -1.421875 17.65625 -0.515625 \nQ 12.796875 0.390625 7.625 2.203125 \nL 7.625 11.71875 \nQ 11.71875 9.328125 16.59375 8.109375 \nQ 21.484375 6.890625 26.8125 6.890625 \nQ 36.078125 6.890625 40.9375 10.546875 \nQ 45.796875 14.203125 45.796875 21.1875 \nQ 45.796875 27.640625 41.28125 31.265625 \nQ 36.765625 34.90625 28.71875 34.90625 \nL 20.21875 34.90625 \nL 20.21875 43.015625 \nL 29.109375 43.015625 \nQ 36.375 43.015625 40.234375 45.921875 \nQ 44.09375 48.828125 44.09375 54.296875 \nQ 44.09375 59.90625 40.109375 62.90625 \nQ 36.140625 65.921875 28.71875 65.921875 \nQ 24.65625 65.921875 20.015625 65.03125 \nQ 15.375 64.15625 9.8125 62.3125 \nL 9.8125 71.09375 \nQ 15.4375 72.65625 20.34375 73.4375 \nQ 25.25 74.21875 29.59375 74.21875 \nQ 40.828125 74.21875 47.359375 69.109375 \nQ 53.90625 64.015625 53.90625 55.328125 \nQ 53.90625 49.265625 50.4375 45.09375 \nQ 46.96875 40.921875 40.578125 39.3125 \nz\n\" id=\"DejaVuSans-51\"/>\n      </defs>\n      <g transform=\"translate(282.633755 239.238437)scale(0.1 -0.1)\">\n       <use xlink:href=\"#DejaVuSans-51\"/>\n      </g>\n     </g>\n    </g>\n    <g id=\"xtick_6\">\n     <g id=\"line2d_11\">\n      <path clip-path=\"url(#pa9a329bd8b)\" d=\"M 346.934656 224.64 \nL 346.934656 7.2 \n\" style=\"fill:none;stroke:#b0b0b0;stroke-linecap:square;stroke-width:0.8;\"/>\n     </g>\n     <g id=\"line2d_12\">\n      <g>\n       <use style=\"stroke:#000000;stroke-width:0.8;\" x=\"346.934656\" xlink:href=\"#mf29387cb41\" y=\"224.64\"/>\n      </g>\n     </g>\n     <g id=\"text_6\">\n      <!-- 4 -->\n      <defs>\n       <path d=\"M 37.796875 64.3125 \nL 12.890625 25.390625 \nL 37.796875 25.390625 \nz\nM 35.203125 72.90625 \nL 47.609375 72.90625 \nL 47.609375 25.390625 \nL 58.015625 25.390625 \nL 58.015625 17.1875 \nL 47.609375 17.1875 \nL 47.609375 0 \nL 37.796875 0 \nL 37.796875 17.1875 \nL 4.890625 17.1875 \nL 4.890625 26.703125 \nz\n\" id=\"DejaVuSans-52\"/>\n      </defs>\n      <g transform=\"translate(343.753406 239.238437)scale(0.1 -0.1)\">\n       <use xlink:href=\"#DejaVuSans-52\"/>\n      </g>\n     </g>\n    </g>\n   </g>\n   <g id=\"matplotlib.axis_2\">\n    <g id=\"ytick_1\">\n     <g id=\"line2d_13\">\n      <path clip-path=\"url(#pa9a329bd8b)\" d=\"M 26.925 224.64 \nL 361.725 224.64 \n\" style=\"fill:none;stroke:#b0b0b0;stroke-linecap:square;stroke-width:0.8;\"/>\n     </g>\n     <g id=\"line2d_14\">\n      <defs>\n       <path d=\"M 0 0 \nL -3.5 0 \n\" id=\"m8281db9b1e\" style=\"stroke:#000000;stroke-width:0.8;\"/>\n      </defs>\n      <g>\n       <use style=\"stroke:#000000;stroke-width:0.8;\" x=\"26.925\" xlink:href=\"#m8281db9b1e\" y=\"224.64\"/>\n      </g>\n     </g>\n     <g id=\"text_7\">\n      <!-- 0 -->\n      <g transform=\"translate(13.5625 228.439219)scale(0.1 -0.1)\">\n       <use xlink:href=\"#DejaVuSans-48\"/>\n      </g>\n     </g>\n    </g>\n    <g id=\"ytick_2\">\n     <g id=\"line2d_15\">\n      <path clip-path=\"url(#pa9a329bd8b)\" d=\"M 26.925 186.988052 \nL 361.725 186.988052 \n\" style=\"fill:none;stroke:#b0b0b0;stroke-linecap:square;stroke-width:0.8;\"/>\n     </g>\n     <g id=\"line2d_16\">\n      <g>\n       <use style=\"stroke:#000000;stroke-width:0.8;\" x=\"26.925\" xlink:href=\"#m8281db9b1e\" y=\"186.988052\"/>\n      </g>\n     </g>\n     <g id=\"text_8\">\n      <!-- 10 -->\n      <g transform=\"translate(7.2 190.787271)scale(0.1 -0.1)\">\n       <use xlink:href=\"#DejaVuSans-49\"/>\n       <use x=\"63.623047\" xlink:href=\"#DejaVuSans-48\"/>\n      </g>\n     </g>\n    </g>\n    <g id=\"ytick_3\">\n     <g id=\"line2d_17\">\n      <path clip-path=\"url(#pa9a329bd8b)\" d=\"M 26.925 149.336104 \nL 361.725 149.336104 \n\" style=\"fill:none;stroke:#b0b0b0;stroke-linecap:square;stroke-width:0.8;\"/>\n     </g>\n     <g id=\"line2d_18\">\n      <g>\n       <use style=\"stroke:#000000;stroke-width:0.8;\" x=\"26.925\" xlink:href=\"#m8281db9b1e\" y=\"149.336104\"/>\n      </g>\n     </g>\n     <g id=\"text_9\">\n      <!-- 20 -->\n      <g transform=\"translate(7.2 153.135323)scale(0.1 -0.1)\">\n       <use xlink:href=\"#DejaVuSans-50\"/>\n       <use x=\"63.623047\" xlink:href=\"#DejaVuSans-48\"/>\n      </g>\n     </g>\n    </g>\n    <g id=\"ytick_4\">\n     <g id=\"line2d_19\">\n      <path clip-path=\"url(#pa9a329bd8b)\" d=\"M 26.925 111.684156 \nL 361.725 111.684156 \n\" style=\"fill:none;stroke:#b0b0b0;stroke-linecap:square;stroke-width:0.8;\"/>\n     </g>\n     <g id=\"line2d_20\">\n      <g>\n       <use style=\"stroke:#000000;stroke-width:0.8;\" x=\"26.925\" xlink:href=\"#m8281db9b1e\" y=\"111.684156\"/>\n      </g>\n     </g>\n     <g id=\"text_10\">\n      <!-- 30 -->\n      <g transform=\"translate(7.2 115.483375)scale(0.1 -0.1)\">\n       <use xlink:href=\"#DejaVuSans-51\"/>\n       <use x=\"63.623047\" xlink:href=\"#DejaVuSans-48\"/>\n      </g>\n     </g>\n    </g>\n    <g id=\"ytick_5\">\n     <g id=\"line2d_21\">\n      <path clip-path=\"url(#pa9a329bd8b)\" d=\"M 26.925 74.032208 \nL 361.725 74.032208 \n\" style=\"fill:none;stroke:#b0b0b0;stroke-linecap:square;stroke-width:0.8;\"/>\n     </g>\n     <g id=\"line2d_22\">\n      <g>\n       <use style=\"stroke:#000000;stroke-width:0.8;\" x=\"26.925\" xlink:href=\"#m8281db9b1e\" y=\"74.032208\"/>\n      </g>\n     </g>\n     <g id=\"text_11\">\n      <!-- 40 -->\n      <g transform=\"translate(7.2 77.831427)scale(0.1 -0.1)\">\n       <use xlink:href=\"#DejaVuSans-52\"/>\n       <use x=\"63.623047\" xlink:href=\"#DejaVuSans-48\"/>\n      </g>\n     </g>\n    </g>\n    <g id=\"ytick_6\">\n     <g id=\"line2d_23\">\n      <path clip-path=\"url(#pa9a329bd8b)\" d=\"M 26.925 36.38026 \nL 361.725 36.38026 \n\" style=\"fill:none;stroke:#b0b0b0;stroke-linecap:square;stroke-width:0.8;\"/>\n     </g>\n     <g id=\"line2d_24\">\n      <g>\n       <use style=\"stroke:#000000;stroke-width:0.8;\" x=\"26.925\" xlink:href=\"#m8281db9b1e\" y=\"36.38026\"/>\n      </g>\n     </g>\n     <g id=\"text_12\">\n      <!-- 50 -->\n      <defs>\n       <path d=\"M 10.796875 72.90625 \nL 49.515625 72.90625 \nL 49.515625 64.59375 \nL 19.828125 64.59375 \nL 19.828125 46.734375 \nQ 21.96875 47.46875 24.109375 47.828125 \nQ 26.265625 48.1875 28.421875 48.1875 \nQ 40.625 48.1875 47.75 41.5 \nQ 54.890625 34.8125 54.890625 23.390625 \nQ 54.890625 11.625 47.5625 5.09375 \nQ 40.234375 -1.421875 26.90625 -1.421875 \nQ 22.3125 -1.421875 17.546875 -0.640625 \nQ 12.796875 0.140625 7.71875 1.703125 \nL 7.71875 11.625 \nQ 12.109375 9.234375 16.796875 8.0625 \nQ 21.484375 6.890625 26.703125 6.890625 \nQ 35.15625 6.890625 40.078125 11.328125 \nQ 45.015625 15.765625 45.015625 23.390625 \nQ 45.015625 31 40.078125 35.4375 \nQ 35.15625 39.890625 26.703125 39.890625 \nQ 22.75 39.890625 18.8125 39.015625 \nQ 14.890625 38.140625 10.796875 36.28125 \nz\n\" id=\"DejaVuSans-53\"/>\n      </defs>\n      <g transform=\"translate(7.2 40.179478)scale(0.1 -0.1)\">\n       <use xlink:href=\"#DejaVuSans-53\"/>\n       <use x=\"63.623047\" xlink:href=\"#DejaVuSans-48\"/>\n      </g>\n     </g>\n    </g>\n   </g>\n   <g id=\"patch_33\">\n    <path d=\"M 26.925 224.64 \nL 26.925 7.2 \n\" style=\"fill:none;stroke:#000000;stroke-linecap:square;stroke-linejoin:miter;stroke-width:0.8;\"/>\n   </g>\n   <g id=\"patch_34\">\n    <path d=\"M 361.725 224.64 \nL 361.725 7.2 \n\" style=\"fill:none;stroke:#000000;stroke-linecap:square;stroke-linejoin:miter;stroke-width:0.8;\"/>\n   </g>\n   <g id=\"patch_35\">\n    <path d=\"M 26.925 224.64 \nL 361.725 224.64 \n\" style=\"fill:none;stroke:#000000;stroke-linecap:square;stroke-linejoin:miter;stroke-width:0.8;\"/>\n   </g>\n   <g id=\"patch_36\">\n    <path d=\"M 26.925 7.2 \nL 361.725 7.2 \n\" style=\"fill:none;stroke:#000000;stroke-linecap:square;stroke-linejoin:miter;stroke-width:0.8;\"/>\n   </g>\n  </g>\n </g>\n <defs>\n  <clipPath id=\"pa9a329bd8b\">\n   <rect height=\"217.44\" width=\"334.8\" x=\"26.925\" y=\"7.2\"/>\n  </clipPath>\n </defs>\n</svg>\n",
      "image/png": "[encoded data removed]"
     },
     "metadata": {
      "needs_background": "light"
     }
    }
   ],
   "source": [
    "random_result.profit.hist(bins=30)"
   ]
  },
  {
   "cell_type": "markdown",
   "metadata": {},
   "source": [
    "盈利基金中平均每年收益"
   ]
  },
  {
   "cell_type": "code",
   "execution_count": 95,
   "metadata": {},
   "outputs": [
    {
     "output_type": "stream",
     "name": "stdout",
     "text": "0.04572262830647933\n"
    }
   ],
   "source": [
    "avg_profit = sum(j for j in profits if j) / win\n",
    "i = (1 + avg_profit) ** (1/3) - 1\n",
    "print(i)\n",
    ""
   ]
  }
 ],
 "metadata": {
  "language_info": {
   "name": "python",
   "codemirror_mode": {
    "name": "ipython",
    "version": 3
   },
   "version": "3.7.5-final"
  },
  "orig_nbformat": 2,
  "file_extension": ".py",
  "mimetype": "text/x-python",
  "name": "python",
  "npconvert_exporter": "python",
  "pygments_lexer": "ipython3",
  "version": 3,
  "kernelspec": {
   "name": "python37564bitmoonpipenv2959f348a3ad4d11ac1f8d90e494e5e9",
   "display_name": "Python 3.7.5 64-bit ('moon': pipenv)"
  }
 },
 "nbformat": 4,
 "nbformat_minor": 2
}